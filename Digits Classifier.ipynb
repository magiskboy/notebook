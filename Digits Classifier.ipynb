{
 "cells": [
  {
   "cell_type": "code",
   "execution_count": 386,
   "metadata": {},
   "outputs": [],
   "source": [
    "import numpy as np\n",
    "import pandas as pd\n",
    "from sklearn.datasets import load_digits\n",
    "from sklearn.tree import DecisionTreeClassifier\n",
    "from sklearn.svm import SVC\n",
    "from sklearn.neural_network import MLPClassifier\n",
    "from sklearn.naive_bayes import BernoulliNB\n",
    "from sklearn.neighbors import KNeighborsClassifier\n",
    "from sklearn.model_selection import cross_val_score\n",
    "from sklearn.preprocessing import MinMaxScaler\n",
    "from sklearn.pipeline import Pipeline\n",
    "from matplotlib import pyplot as plt"
   ]
  },
  {
   "cell_type": "code",
   "execution_count": 97,
   "metadata": {},
   "outputs": [],
   "source": [
    "dataset = load_digits()\n",
    "data = dataset.data\n",
    "target = dataset.target"
   ]
  },
  {
   "cell_type": "code",
   "execution_count": 396,
   "metadata": {
    "scrolled": true
   },
   "outputs": [],
   "source": [
    "steps = {\n",
    "#     'tree': [\n",
    "#         ('scaler', MinMaxScaler()),\n",
    "#         ('model', DecisionTreeClassifier(criterion='entropy'))\n",
    "#     ],\n",
    "#     'svm': [\n",
    "#         ('scaler', MinMaxScaler()),\n",
    "#         ('model', SVC(C=50, kernel='rbf', gamma='auto'))\n",
    "#     ],\n",
    "    'net': [\n",
    "        ('scaler', MinMaxScaler()),\n",
    "        ('model', MLPClassifier(solver='adam', hidden_layer_sizes=(100,100), max_iter=1000))\n",
    "    ],\n",
    "#     'knn': [\n",
    "#         ('scaler', MinMaxScaler()),\n",
    "#         ('model', KNeighborsClassifier(algorithm='ball_tree', weights='distance', n_neighbors=3))\n",
    "#     ]\n",
    "}\n",
    "\n",
    "pipies = []\n",
    "report = []\n",
    "for name, step in steps.items():\n",
    "    pipe = Pipeline(step)\n",
    "    cv = cross_val_score(estimator=pipe, X=data, y=target, cv=5, scoring='accuracy')\n",
    "    pipies.append((name, pipe))\n",
    "    report.append((name, cv.mean()))"
   ]
  },
  {
   "cell_type": "code",
   "execution_count": 397,
   "metadata": {},
   "outputs": [
    {
     "name": "stdout",
     "output_type": "stream",
     "text": [
      "net    0.94380\n"
     ]
    }
   ],
   "source": [
    "for name, score in report:\n",
    "    print '%-6s %-2.5f' % (name, score)"
   ]
  }
 ],
 "metadata": {
  "kernelspec": {
   "display_name": "Python 2",
   "language": "python",
   "name": "python2"
  },
  "language_info": {
   "codemirror_mode": {
    "name": "ipython",
    "version": 2
   },
   "file_extension": ".py",
   "mimetype": "text/x-python",
   "name": "python",
   "nbconvert_exporter": "python",
   "pygments_lexer": "ipython2",
   "version": "2.7.15rc1"
  }
 },
 "nbformat": 4,
 "nbformat_minor": 2
}
