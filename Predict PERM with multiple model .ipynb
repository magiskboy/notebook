{
 "cells": [
  {
   "cell_type": "code",
   "execution_count": 18,
   "metadata": {},
   "outputs": [],
   "source": [
    "from IPython.display import display\n",
    "import pickle\n",
    "import numpy as np\n",
    "import pandas as pd\n",
    "import tensorflow as tf\n",
    "from matplotlib import pyplot as plt\n",
    "from sklearn.metrics import mean_absolute_error, mean_squared_error, log_loss, accuracy_score, confusion_matrix\n",
    "from sklearn.pipeline import Pipeline\n",
    "from sklearn.decomposition import PCA\n",
    "from sklearn.preprocessing import StandardScaler, MinMaxScaler\n",
    "from skcmeans.algorithms import Probabilistic\n",
    "from xgboost import XGBClassifier, XGBRegressor\n",
    "from sklearn.neural_network import MLPRegressor\n",
    "\n",
    "plt.rcParams['figure.figsize'] = [15, 7]"
   ]
  },
  {
   "cell_type": "markdown",
   "metadata": {},
   "source": [
    "## Ý tưởng\n",
    "\n",
    "Sử dụng nhiều model giải quyết vấn đề của bài toán PERM có khỏang giá trị rộng (1e-3 - 8000)\n",
    "\n",
    "* Sử dụng model CMeans phân cụm dữ liệu theo đầu vào hoặc đầu ra.\n",
    "\n",
    "* Sử dụng model classification training trên với label sinh ra từ CMeans.\n",
    "\n",
    "* Sử dụng nhiều model regression training trên từng cụm dữ liệu với đầu ra là PERM.\n",
    "\n",
    "* Trong quá trình đưa dữ liệu mới vào, model classification sẽ phân loại đầu vào, từ đó sẽ quyết định tới việc sử dụng model regression nào cho phù hợp."
   ]
  },
  {
   "cell_type": "code",
   "execution_count": 19,
   "metadata": {},
   "outputs": [],
   "source": [
    "def input_fn(ftrain, fval):\n",
    "    \"\"\"Specify process load data for this paper\n",
    "    \n",
    "    Parameters\n",
    "    ----------\n",
    "    ftrain: string, path to file csv dataset for trainning\n",
    "    \n",
    "    fval: string, path to file csv dataset for validation\n",
    "    \n",
    "    Returns\n",
    "    -------\n",
    "    df_train: pandas DataFrame, table training set with header and no index\n",
    "    \n",
    "    df_val: pandas DataFrame, table training set with header and no index\n",
    "    \n",
    "    Notes\n",
    "    -----\n",
    "    File must be .csv format with first line is header and no index\n",
    "    \"\"\"\n",
    "    df_train = pd.read_csv(ftrain, header=0, index_col=None)\n",
    "    if not fval is None:\n",
    "        df_val = pd.read_csv(fval, header=0, index_col=None)\n",
    "    else:\n",
    "        df_val = None\n",
    "        \n",
    "    return df_train, df_val"
   ]
  },
  {
   "cell_type": "code",
   "execution_count": 20,
   "metadata": {},
   "outputs": [],
   "source": [
    "def clustering(dataset, n_clusters=6, by='target'):\n",
    "    \"\"\"Clustering process perform cluster dataset by data or target\n",
    "    \n",
    "    Parameters\n",
    "    ----------\n",
    "    dataset: pandas DataFrame, default last column is target\n",
    "\n",
    "    n_clusters: int, number of clusters\n",
    "    \n",
    "    by: string, `data` or `target`, target for clustering process, default `target`\n",
    "    \n",
    "    Returns\n",
    "    -------\n",
    "    dataset_with_labels: pandas DataFrame, dataset assigned label, columns labels is last\n",
    "    \"\"\"\n",
    "    distances = []\n",
    "    data = dataset.values[:,:-1]\n",
    "    target = dataset.values[:,-1].reshape(-1,1)\n",
    "    cluster = Probabilistic(n_clusters=n_clusters, random_state=1)\n",
    "    \n",
    "    if by not in ['data', 'target']:\n",
    "        print('No support')\n",
    "        return None\n",
    "    if by == 'target':\n",
    "        cluster.fit(target)\n",
    "        distances = cluster.distances(target)\n",
    "    else:\n",
    "        cluster.fit(data)\n",
    "        distances = cluster.distances(data)\n",
    "    \n",
    "    labels = np.argmin(distances, axis=1)\n",
    "    labels = pd.DataFrame(data=labels, columns=['LABEL'])\n",
    "    dataset_with_labels = pd.concat([dataset, labels], axis=1)\n",
    "    \n",
    "    return dataset_with_labels"
   ]
  },
  {
   "cell_type": "code",
   "execution_count": 21,
   "metadata": {},
   "outputs": [],
   "source": [
    "def gen_classifier(dataset, disp=True):\n",
    "    \"\"\"Perform setting and generate a classifier from DataFrame with labels\n",
    "    \n",
    "    Parameters\n",
    "    ----------    \n",
    "    dataset: pandas DataFrame, default last column is labels\n",
    "    \n",
    "    disp: bool, display report if True\n",
    "    \n",
    "    Returns\n",
    "    -------\n",
    "    classifier: object of clf, trained with data\n",
    "    \"\"\"\n",
    "    data = dataset.values[:,:-2]\n",
    "    labels = dataset.values[:,-1]\n",
    "    steps = [('std', StandardScaler()),\n",
    "             ('estimator', XGBClassifier(n_estimators=300, max_depth=30))]\n",
    "    classifier = Pipeline(steps)\n",
    "    classifier.fit(data, labels)\n",
    "    \n",
    "    if disp:\n",
    "        loss = 0\n",
    "        accuracy = 0\n",
    "        labels_pred = classifier.predict(data)\n",
    "        #loss = log_loss(y_pred=labels_pred, y_true=labels)\n",
    "        accuracy = accuracy_score(y_pred=labels_pred, y_true=labels)\n",
    "        cm = confusion_matrix(y_pred=labels_pred, y_true=labels)\n",
    "        print('Classifier report')\n",
    "        print('-----------------')\n",
    "        print(f'Loss: {loss}')\n",
    "        print(f'Accuracy: {accuracy}')\n",
    "        plt.imshow(X=cm, cmap=plt.cm.Blues, interpolation='nearest')\n",
    "        plt.title('Confusion matrix for classifier')\n",
    "        plt.colorbar()\n",
    "        plt.show()\n",
    "    \n",
    "    return classifier"
   ]
  },
  {
   "cell_type": "code",
   "execution_count": 22,
   "metadata": {},
   "outputs": [],
   "source": [
    "def gen_estimators(dataset, disp=True):\n",
    "    \"\"\"Perform generate model regression for PERM\n",
    "    \n",
    "    Parameters\n",
    "    ----------\n",
    "    dataset: pandas DataFrame, default last colum is labels\n",
    "    \n",
    "    disp: bool, display report if True\n",
    "    \n",
    "    Returns\n",
    "    -------\n",
    "    estimators: list of regressor\n",
    "    \"\"\"\n",
    "    n_models = len(set(dataset.values[:,-1]))\n",
    "    estimators = []\n",
    "    for i in range(n_models):\n",
    "        steps = [('std', MinMaxScaler()),\n",
    "                 ('estimator', XGBRegressor(n_estimators=300, max_depth=30))]\n",
    "        estimators.append(Pipeline(steps))\n",
    "    groups = dataset.groupby('LABEL')\n",
    "    \n",
    "    for group in groups:\n",
    "        index = group[0]\n",
    "        data = group[1].values[:,:-2]\n",
    "        target = group[1].values[:,-2]\n",
    "        estimators[index].fit(data, target)\n",
    "        \n",
    "        if disp:\n",
    "            target_pred = estimators[index].predict(data)\n",
    "            mae = mean_absolute_error(y_true=target, y_pred=target_pred)\n",
    "            mse = mean_squared_error(y_true=target, y_pred=target_pred)\n",
    "            error = abs(target - target_pred)\n",
    "            print(f'Estimator {index} report')\n",
    "            print('-------------------')\n",
    "            print(f'MSE: {mse}')\n",
    "            print(f'MAE: {mae}')\n",
    "            plt.hist(error, bins=50)\n",
    "            plt.title('Distributed error')\n",
    "            plt.show()\n",
    "    \n",
    "    return estimators"
   ]
  },
  {
   "cell_type": "code",
   "execution_count": 23,
   "metadata": {},
   "outputs": [],
   "source": [
    "def save_models(classifier, estimators, fmodels=None):\n",
    "    \"\"\"Perform combine and dump pickle to file with name is fmodels\n",
    "    \n",
    "    Parameters\n",
    "    ----------\n",
    "    classifier: object, it trained\n",
    "    \n",
    "    estimators: list of object, it trained\n",
    "    \n",
    "    fmodels: string, if fmodel is not None, it is name of dump file\n",
    "    \n",
    "    Returns\n",
    "    -------\n",
    "    models: dict, keys: classifier and estimators\n",
    "    \"\"\"\n",
    "    models = dict(classifier=classifier, estimators=estimators)\n",
    "    if not fmodels is None:\n",
    "        with open(fmodels, 'wb') as dump_file:\n",
    "            pickle.dump(models, dump_file)\n",
    "    return models"
   ]
  },
  {
   "cell_type": "code",
   "execution_count": 24,
   "metadata": {},
   "outputs": [],
   "source": [
    "def predict(models, data):\n",
    "    \"\"\"Perform predict data using models and data\n",
    "    \n",
    "    Parameters\n",
    "    ----------\n",
    "    models: dict, models combined\n",
    "    data: ndarray (n_samples, 6), a numpy array has 6 features\n",
    "    \n",
    "    Returns\n",
    "    -------\n",
    "    perm: ndarray (n_samples,), a 1d numpy array is perm \n",
    "    \"\"\"\n",
    "    labels = models['classifier'].predict(data).astype(int)\n",
    "    y_pred = []\n",
    "    for i in range(len(labels)):\n",
    "        index = labels[i]\n",
    "        x = data[i]\n",
    "        y = models['estimators'][index].predict([x])\n",
    "        y_pred.append(y[0])\n",
    "    \n",
    "    y_pred = np.array(y_pred).reshape(-1)\n",
    "    \n",
    "    return y_pred"
   ]
  },
  {
   "cell_type": "code",
   "execution_count": 25,
   "metadata": {},
   "outputs": [],
   "source": [
    "def create_models(ftrain='train.csv', fval='val.csv', n_clusters=8, fmodels='himpe'):\n",
    "    \"\"\"Perform create models\n",
    "    \n",
    "    Parameters\n",
    "    ----------\n",
    "    ftrain: string, path to csv file training dataset\n",
    "    fval: string, path to csv file training dataset\n",
    "    n_clusters: int, numbe of cluster\n",
    "    fmodels: string, path to dump file models\n",
    "    \n",
    "    Returns\n",
    "    -------\n",
    "    models: dict\n",
    "    \"\"\"\n",
    "    df_train, df_val = input_fn(ftrain, fval)\n",
    "    df_with_label = clustering(dataset=df_train, by='data', n_clusters=n_clusters)\n",
    "    classifer = gen_classifier(dataset=df_with_label, disp=True)\n",
    "    estimators = gen_estimators(dataset=df_with_label, disp=True)\n",
    "    save_models(classifier=classifer, estimators=estimators, fmodels=fmodels)\n",
    "    if not df_val is None:\n",
    "        evaluate(df_val, models)\n",
    "    \n",
    "    return models"
   ]
  },
  {
   "cell_type": "code",
   "execution_count": 26,
   "metadata": {},
   "outputs": [],
   "source": [
    "def evaluate(df_val, models):\n",
    "    x_val = df_val.values[:,:-1]\n",
    "    y_val = df_val.values[:,-1]\n",
    "    y_pred = predict(models=models, data=x_val)\n",
    "    x = list(range(len(y_val)))\n",
    "    error = abs(y_val-y_pred)\n",
    "    mae = mean_absolute_error(y_val, y_pred)\n",
    "    mse = mean_squared_error(y_val, y_pred)\n",
    "    print('Models report')\n",
    "    print('-------------')\n",
    "    print(f'MAE: {mae}')\n",
    "    print(f'MSE: {mse}')\n",
    "    plt.hist(error, bins=100)\n",
    "    plt.xlabel('Error')\n",
    "    plt.ylabel('n sample')\n",
    "    plt.title('Report error')\n",
    "    plt.show()\n",
    "\n",
    "    plt.plot(x, y_val, label='Actual')\n",
    "    plt.plot(x, y_pred, label='Predict')\n",
    "    plt.legend()\n",
    "    plt.show()"
   ]
  },
  {
   "cell_type": "markdown",
   "metadata": {},
   "source": [
    "### Config and load dataset"
   ]
  },
  {
   "cell_type": "code",
   "execution_count": 27,
   "metadata": {
    "scrolled": true
   },
   "outputs": [
    {
     "data": {
      "text/html": [
       "<div>\n",
       "<style scoped>\n",
       "    .dataframe tbody tr th:only-of-type {\n",
       "        vertical-align: middle;\n",
       "    }\n",
       "\n",
       "    .dataframe tbody tr th {\n",
       "        vertical-align: top;\n",
       "    }\n",
       "\n",
       "    .dataframe thead th {\n",
       "        text-align: right;\n",
       "    }\n",
       "</style>\n",
       "<table border=\"1\" class=\"dataframe\">\n",
       "  <thead>\n",
       "    <tr style=\"text-align: right;\">\n",
       "      <th></th>\n",
       "      <th>GR</th>\n",
       "      <th>NPHI</th>\n",
       "      <th>RHOB</th>\n",
       "      <th>DT</th>\n",
       "      <th>VCL</th>\n",
       "      <th>PHIE</th>\n",
       "      <th>PERM_CORE</th>\n",
       "    </tr>\n",
       "  </thead>\n",
       "  <tbody>\n",
       "    <tr>\n",
       "      <th>count</th>\n",
       "      <td>2500.000000</td>\n",
       "      <td>2500.000000</td>\n",
       "      <td>2500.000000</td>\n",
       "      <td>2500.000000</td>\n",
       "      <td>2500.000000</td>\n",
       "      <td>2500.000000</td>\n",
       "      <td>2500.000000</td>\n",
       "    </tr>\n",
       "    <tr>\n",
       "      <th>mean</th>\n",
       "      <td>82.484089</td>\n",
       "      <td>1.539995</td>\n",
       "      <td>36.065923</td>\n",
       "      <td>173.169454</td>\n",
       "      <td>0.784944</td>\n",
       "      <td>0.120373</td>\n",
       "      <td>189.459868</td>\n",
       "    </tr>\n",
       "    <tr>\n",
       "      <th>std</th>\n",
       "      <td>32.426194</td>\n",
       "      <td>4.633091</td>\n",
       "      <td>271.513684</td>\n",
       "      <td>508.339513</td>\n",
       "      <td>3.093680</td>\n",
       "      <td>0.070277</td>\n",
       "      <td>490.383317</td>\n",
       "    </tr>\n",
       "    <tr>\n",
       "      <th>min</th>\n",
       "      <td>9.721700</td>\n",
       "      <td>0.000000</td>\n",
       "      <td>2.010400</td>\n",
       "      <td>2.270000</td>\n",
       "      <td>0.000000</td>\n",
       "      <td>0.000000</td>\n",
       "      <td>0.000100</td>\n",
       "    </tr>\n",
       "    <tr>\n",
       "      <th>25%</th>\n",
       "      <td>59.515600</td>\n",
       "      <td>0.119600</td>\n",
       "      <td>2.353900</td>\n",
       "      <td>69.752500</td>\n",
       "      <td>0.088000</td>\n",
       "      <td>0.076300</td>\n",
       "      <td>0.180000</td>\n",
       "    </tr>\n",
       "    <tr>\n",
       "      <th>50%</th>\n",
       "      <td>79.299450</td>\n",
       "      <td>0.156450</td>\n",
       "      <td>2.434250</td>\n",
       "      <td>74.184198</td>\n",
       "      <td>0.158200</td>\n",
       "      <td>0.112619</td>\n",
       "      <td>5.079300</td>\n",
       "    </tr>\n",
       "    <tr>\n",
       "      <th>75%</th>\n",
       "      <td>98.960550</td>\n",
       "      <td>0.224000</td>\n",
       "      <td>2.484650</td>\n",
       "      <td>80.801425</td>\n",
       "      <td>0.284100</td>\n",
       "      <td>0.161300</td>\n",
       "      <td>90.372675</td>\n",
       "    </tr>\n",
       "    <tr>\n",
       "      <th>max</th>\n",
       "      <td>267.060211</td>\n",
       "      <td>32.326800</td>\n",
       "      <td>2370.562000</td>\n",
       "      <td>2830.901600</td>\n",
       "      <td>29.430300</td>\n",
       "      <td>0.999700</td>\n",
       "      <td>8700.000000</td>\n",
       "    </tr>\n",
       "  </tbody>\n",
       "</table>\n",
       "</div>"
      ],
      "text/plain": [
       "                GR         NPHI         RHOB           DT          VCL  \\\n",
       "count  2500.000000  2500.000000  2500.000000  2500.000000  2500.000000   \n",
       "mean     82.484089     1.539995    36.065923   173.169454     0.784944   \n",
       "std      32.426194     4.633091   271.513684   508.339513     3.093680   \n",
       "min       9.721700     0.000000     2.010400     2.270000     0.000000   \n",
       "25%      59.515600     0.119600     2.353900    69.752500     0.088000   \n",
       "50%      79.299450     0.156450     2.434250    74.184198     0.158200   \n",
       "75%      98.960550     0.224000     2.484650    80.801425     0.284100   \n",
       "max     267.060211    32.326800  2370.562000  2830.901600    29.430300   \n",
       "\n",
       "              PHIE    PERM_CORE  \n",
       "count  2500.000000  2500.000000  \n",
       "mean      0.120373   189.459868  \n",
       "std       0.070277   490.383317  \n",
       "min       0.000000     0.000100  \n",
       "25%       0.076300     0.180000  \n",
       "50%       0.112619     5.079300  \n",
       "75%       0.161300    90.372675  \n",
       "max       0.999700  8700.000000  "
      ]
     },
     "metadata": {},
     "output_type": "display_data"
    },
    {
     "data": {
      "text/html": [
       "<div>\n",
       "<style scoped>\n",
       "    .dataframe tbody tr th:only-of-type {\n",
       "        vertical-align: middle;\n",
       "    }\n",
       "\n",
       "    .dataframe tbody tr th {\n",
       "        vertical-align: top;\n",
       "    }\n",
       "\n",
       "    .dataframe thead th {\n",
       "        text-align: right;\n",
       "    }\n",
       "</style>\n",
       "<table border=\"1\" class=\"dataframe\">\n",
       "  <thead>\n",
       "    <tr style=\"text-align: right;\">\n",
       "      <th></th>\n",
       "      <th>GR</th>\n",
       "      <th>NPHI</th>\n",
       "      <th>RHOB</th>\n",
       "      <th>DT</th>\n",
       "      <th>VCL</th>\n",
       "      <th>PHIE</th>\n",
       "      <th>PERM_CORE</th>\n",
       "    </tr>\n",
       "  </thead>\n",
       "  <tbody>\n",
       "    <tr>\n",
       "      <th>count</th>\n",
       "      <td>400.000000</td>\n",
       "      <td>400.000000</td>\n",
       "      <td>400.000000</td>\n",
       "      <td>400.000000</td>\n",
       "      <td>400.000000</td>\n",
       "      <td>400.000000</td>\n",
       "      <td>400.000000</td>\n",
       "    </tr>\n",
       "    <tr>\n",
       "      <th>mean</th>\n",
       "      <td>82.574070</td>\n",
       "      <td>1.138887</td>\n",
       "      <td>48.466470</td>\n",
       "      <td>205.902290</td>\n",
       "      <td>1.085221</td>\n",
       "      <td>0.128096</td>\n",
       "      <td>212.061866</td>\n",
       "    </tr>\n",
       "    <tr>\n",
       "      <th>std</th>\n",
       "      <td>28.801440</td>\n",
       "      <td>3.872197</td>\n",
       "      <td>317.149657</td>\n",
       "      <td>583.852710</td>\n",
       "      <td>4.145166</td>\n",
       "      <td>0.092570</td>\n",
       "      <td>610.256267</td>\n",
       "    </tr>\n",
       "    <tr>\n",
       "      <th>min</th>\n",
       "      <td>13.804300</td>\n",
       "      <td>0.013300</td>\n",
       "      <td>2.012700</td>\n",
       "      <td>2.420000</td>\n",
       "      <td>0.000000</td>\n",
       "      <td>0.000000</td>\n",
       "      <td>0.000400</td>\n",
       "    </tr>\n",
       "    <tr>\n",
       "      <th>25%</th>\n",
       "      <td>59.616025</td>\n",
       "      <td>0.119050</td>\n",
       "      <td>2.350675</td>\n",
       "      <td>69.781951</td>\n",
       "      <td>0.091750</td>\n",
       "      <td>0.073400</td>\n",
       "      <td>0.187950</td>\n",
       "    </tr>\n",
       "    <tr>\n",
       "      <th>50%</th>\n",
       "      <td>79.014750</td>\n",
       "      <td>0.154850</td>\n",
       "      <td>2.434200</td>\n",
       "      <td>75.238950</td>\n",
       "      <td>0.157200</td>\n",
       "      <td>0.118500</td>\n",
       "      <td>6.456399</td>\n",
       "    </tr>\n",
       "    <tr>\n",
       "      <th>75%</th>\n",
       "      <td>99.613928</td>\n",
       "      <td>0.228300</td>\n",
       "      <td>2.490875</td>\n",
       "      <td>82.086875</td>\n",
       "      <td>0.281300</td>\n",
       "      <td>0.167425</td>\n",
       "      <td>112.097500</td>\n",
       "    </tr>\n",
       "    <tr>\n",
       "      <th>max</th>\n",
       "      <td>173.272400</td>\n",
       "      <td>19.925000</td>\n",
       "      <td>2307.865200</td>\n",
       "      <td>2828.438400</td>\n",
       "      <td>32.326800</td>\n",
       "      <td>0.877800</td>\n",
       "      <td>8700.000000</td>\n",
       "    </tr>\n",
       "  </tbody>\n",
       "</table>\n",
       "</div>"
      ],
      "text/plain": [
       "               GR        NPHI         RHOB           DT         VCL  \\\n",
       "count  400.000000  400.000000   400.000000   400.000000  400.000000   \n",
       "mean    82.574070    1.138887    48.466470   205.902290    1.085221   \n",
       "std     28.801440    3.872197   317.149657   583.852710    4.145166   \n",
       "min     13.804300    0.013300     2.012700     2.420000    0.000000   \n",
       "25%     59.616025    0.119050     2.350675    69.781951    0.091750   \n",
       "50%     79.014750    0.154850     2.434200    75.238950    0.157200   \n",
       "75%     99.613928    0.228300     2.490875    82.086875    0.281300   \n",
       "max    173.272400   19.925000  2307.865200  2828.438400   32.326800   \n",
       "\n",
       "             PHIE    PERM_CORE  \n",
       "count  400.000000   400.000000  \n",
       "mean     0.128096   212.061866  \n",
       "std      0.092570   610.256267  \n",
       "min      0.000000     0.000400  \n",
       "25%      0.073400     0.187950  \n",
       "50%      0.118500     6.456399  \n",
       "75%      0.167425   112.097500  \n",
       "max      0.877800  8700.000000  "
      ]
     },
     "metadata": {},
     "output_type": "display_data"
    }
   ],
   "source": [
    "fmodels = 'himpe'\n",
    "ftrain = 'train.csv'\n",
    "fval = 'val.csv'\n",
    "n_clusters = 8\n",
    "\n",
    "df_train, df_val = input_fn(ftrain, fval)\n",
    "display(df_train.describe(), df_val.describe())"
   ]
  },
  {
   "cell_type": "markdown",
   "metadata": {},
   "source": [
    "### Generate data with label"
   ]
  },
  {
   "cell_type": "code",
   "execution_count": 28,
   "metadata": {},
   "outputs": [
    {
     "data": {
      "text/html": [
       "<div>\n",
       "<style scoped>\n",
       "    .dataframe tbody tr th:only-of-type {\n",
       "        vertical-align: middle;\n",
       "    }\n",
       "\n",
       "    .dataframe tbody tr th {\n",
       "        vertical-align: top;\n",
       "    }\n",
       "\n",
       "    .dataframe thead th {\n",
       "        text-align: right;\n",
       "    }\n",
       "</style>\n",
       "<table border=\"1\" class=\"dataframe\">\n",
       "  <thead>\n",
       "    <tr style=\"text-align: right;\">\n",
       "      <th></th>\n",
       "      <th>GR</th>\n",
       "      <th>NPHI</th>\n",
       "      <th>RHOB</th>\n",
       "      <th>DT</th>\n",
       "      <th>VCL</th>\n",
       "      <th>PHIE</th>\n",
       "      <th>PERM_CORE</th>\n",
       "      <th>LABEL</th>\n",
       "    </tr>\n",
       "  </thead>\n",
       "  <tbody>\n",
       "    <tr>\n",
       "      <th>count</th>\n",
       "      <td>2500.000000</td>\n",
       "      <td>2500.000000</td>\n",
       "      <td>2500.000000</td>\n",
       "      <td>2500.000000</td>\n",
       "      <td>2500.000000</td>\n",
       "      <td>2500.000000</td>\n",
       "      <td>2500.000000</td>\n",
       "      <td>2500.000000</td>\n",
       "    </tr>\n",
       "    <tr>\n",
       "      <th>mean</th>\n",
       "      <td>82.484089</td>\n",
       "      <td>1.539995</td>\n",
       "      <td>36.065923</td>\n",
       "      <td>173.169454</td>\n",
       "      <td>0.784944</td>\n",
       "      <td>0.120373</td>\n",
       "      <td>189.459868</td>\n",
       "      <td>4.938800</td>\n",
       "    </tr>\n",
       "    <tr>\n",
       "      <th>std</th>\n",
       "      <td>32.426194</td>\n",
       "      <td>4.633091</td>\n",
       "      <td>271.513684</td>\n",
       "      <td>508.339513</td>\n",
       "      <td>3.093680</td>\n",
       "      <td>0.070277</td>\n",
       "      <td>490.383317</td>\n",
       "      <td>1.757808</td>\n",
       "    </tr>\n",
       "    <tr>\n",
       "      <th>min</th>\n",
       "      <td>9.721700</td>\n",
       "      <td>0.000000</td>\n",
       "      <td>2.010400</td>\n",
       "      <td>2.270000</td>\n",
       "      <td>0.000000</td>\n",
       "      <td>0.000000</td>\n",
       "      <td>0.000100</td>\n",
       "      <td>0.000000</td>\n",
       "    </tr>\n",
       "    <tr>\n",
       "      <th>25%</th>\n",
       "      <td>59.515600</td>\n",
       "      <td>0.119600</td>\n",
       "      <td>2.353900</td>\n",
       "      <td>69.752500</td>\n",
       "      <td>0.088000</td>\n",
       "      <td>0.076300</td>\n",
       "      <td>0.180000</td>\n",
       "      <td>4.000000</td>\n",
       "    </tr>\n",
       "    <tr>\n",
       "      <th>50%</th>\n",
       "      <td>79.299450</td>\n",
       "      <td>0.156450</td>\n",
       "      <td>2.434250</td>\n",
       "      <td>74.184198</td>\n",
       "      <td>0.158200</td>\n",
       "      <td>0.112619</td>\n",
       "      <td>5.079300</td>\n",
       "      <td>5.000000</td>\n",
       "    </tr>\n",
       "    <tr>\n",
       "      <th>75%</th>\n",
       "      <td>98.960550</td>\n",
       "      <td>0.224000</td>\n",
       "      <td>2.484650</td>\n",
       "      <td>80.801425</td>\n",
       "      <td>0.284100</td>\n",
       "      <td>0.161300</td>\n",
       "      <td>90.372675</td>\n",
       "      <td>6.000000</td>\n",
       "    </tr>\n",
       "    <tr>\n",
       "      <th>max</th>\n",
       "      <td>267.060211</td>\n",
       "      <td>32.326800</td>\n",
       "      <td>2370.562000</td>\n",
       "      <td>2830.901600</td>\n",
       "      <td>29.430300</td>\n",
       "      <td>0.999700</td>\n",
       "      <td>8700.000000</td>\n",
       "      <td>7.000000</td>\n",
       "    </tr>\n",
       "  </tbody>\n",
       "</table>\n",
       "</div>"
      ],
      "text/plain": [
       "                GR         NPHI         RHOB           DT          VCL  \\\n",
       "count  2500.000000  2500.000000  2500.000000  2500.000000  2500.000000   \n",
       "mean     82.484089     1.539995    36.065923   173.169454     0.784944   \n",
       "std      32.426194     4.633091   271.513684   508.339513     3.093680   \n",
       "min       9.721700     0.000000     2.010400     2.270000     0.000000   \n",
       "25%      59.515600     0.119600     2.353900    69.752500     0.088000   \n",
       "50%      79.299450     0.156450     2.434250    74.184198     0.158200   \n",
       "75%      98.960550     0.224000     2.484650    80.801425     0.284100   \n",
       "max     267.060211    32.326800  2370.562000  2830.901600    29.430300   \n",
       "\n",
       "              PHIE    PERM_CORE        LABEL  \n",
       "count  2500.000000  2500.000000  2500.000000  \n",
       "mean      0.120373   189.459868     4.938800  \n",
       "std       0.070277   490.383317     1.757808  \n",
       "min       0.000000     0.000100     0.000000  \n",
       "25%       0.076300     0.180000     4.000000  \n",
       "50%       0.112619     5.079300     5.000000  \n",
       "75%       0.161300    90.372675     6.000000  \n",
       "max       0.999700  8700.000000     7.000000  "
      ]
     },
     "metadata": {},
     "output_type": "display_data"
    },
    {
     "data": {
      "text/html": [
       "<div>\n",
       "<style scoped>\n",
       "    .dataframe tbody tr th:only-of-type {\n",
       "        vertical-align: middle;\n",
       "    }\n",
       "\n",
       "    .dataframe tbody tr th {\n",
       "        vertical-align: top;\n",
       "    }\n",
       "\n",
       "    .dataframe thead th {\n",
       "        text-align: right;\n",
       "    }\n",
       "</style>\n",
       "<table border=\"1\" class=\"dataframe\">\n",
       "  <thead>\n",
       "    <tr style=\"text-align: right;\">\n",
       "      <th></th>\n",
       "      <th>GR</th>\n",
       "      <th>NPHI</th>\n",
       "      <th>RHOB</th>\n",
       "      <th>DT</th>\n",
       "      <th>VCL</th>\n",
       "      <th>PHIE</th>\n",
       "      <th>PERM_CORE</th>\n",
       "      <th>LABEL</th>\n",
       "    </tr>\n",
       "  </thead>\n",
       "  <tbody>\n",
       "    <tr>\n",
       "      <th>0</th>\n",
       "      <td>77.0222</td>\n",
       "      <td>0.3403</td>\n",
       "      <td>2.3864</td>\n",
       "      <td>110.3568</td>\n",
       "      <td>0.6287</td>\n",
       "      <td>0.1170</td>\n",
       "      <td>97.0000</td>\n",
       "      <td>6</td>\n",
       "    </tr>\n",
       "    <tr>\n",
       "      <th>1</th>\n",
       "      <td>64.7020</td>\n",
       "      <td>15.5441</td>\n",
       "      <td>2.3601</td>\n",
       "      <td>79.8485</td>\n",
       "      <td>0.0723</td>\n",
       "      <td>0.1644</td>\n",
       "      <td>23.7000</td>\n",
       "      <td>4</td>\n",
       "    </tr>\n",
       "    <tr>\n",
       "      <th>2</th>\n",
       "      <td>103.7312</td>\n",
       "      <td>0.1999</td>\n",
       "      <td>2296.7898</td>\n",
       "      <td>96.8336</td>\n",
       "      <td>0.0000</td>\n",
       "      <td>0.1711</td>\n",
       "      <td>69.0000</td>\n",
       "      <td>3</td>\n",
       "    </tr>\n",
       "    <tr>\n",
       "      <th>3</th>\n",
       "      <td>98.6601</td>\n",
       "      <td>0.2302</td>\n",
       "      <td>2.3116</td>\n",
       "      <td>79.6258</td>\n",
       "      <td>0.2152</td>\n",
       "      <td>0.1790</td>\n",
       "      <td>142.0000</td>\n",
       "      <td>6</td>\n",
       "    </tr>\n",
       "    <tr>\n",
       "      <th>4</th>\n",
       "      <td>110.5277</td>\n",
       "      <td>0.1719</td>\n",
       "      <td>2.6596</td>\n",
       "      <td>74.9140</td>\n",
       "      <td>0.6558</td>\n",
       "      <td>0.0001</td>\n",
       "      <td>0.1004</td>\n",
       "      <td>7</td>\n",
       "    </tr>\n",
       "  </tbody>\n",
       "</table>\n",
       "</div>"
      ],
      "text/plain": [
       "         GR     NPHI       RHOB        DT     VCL    PHIE  PERM_CORE  LABEL\n",
       "0   77.0222   0.3403     2.3864  110.3568  0.6287  0.1170    97.0000      6\n",
       "1   64.7020  15.5441     2.3601   79.8485  0.0723  0.1644    23.7000      4\n",
       "2  103.7312   0.1999  2296.7898   96.8336  0.0000  0.1711    69.0000      3\n",
       "3   98.6601   0.2302     2.3116   79.6258  0.2152  0.1790   142.0000      6\n",
       "4  110.5277   0.1719     2.6596   74.9140  0.6558  0.0001     0.1004      7"
      ]
     },
     "metadata": {},
     "output_type": "display_data"
    }
   ],
   "source": [
    "df_with_label = clustering(dataset=df_train, by='data', n_clusters=n_clusters)\n",
    "display(df_with_label.describe(), df_with_label.head(5))"
   ]
  },
  {
   "cell_type": "markdown",
   "metadata": {},
   "source": [
    "### Generate classifier"
   ]
  },
  {
   "cell_type": "code",
   "execution_count": 29,
   "metadata": {},
   "outputs": [
    {
     "name": "stderr",
     "output_type": "stream",
     "text": [
      "/home/nkthanh/.local/lib/python3.6/site-packages/sklearn/preprocessing/label.py:151: DeprecationWarning: The truth value of an empty array is ambiguous. Returning False, but in future this will result in an error. Use `array.size > 0` to check that an array is not empty.\n",
      "  if diff:\n"
     ]
    },
    {
     "name": "stdout",
     "output_type": "stream",
     "text": [
      "Classifier report\n",
      "-----------------\n",
      "Loss: 0\n",
      "Accuracy: 1.0\n"
     ]
    },
    {
     "data": {
      "image/png": "[encoded data removed]",
      "text/plain": [
       "<Figure size 1080x504 with 2 Axes>"
      ]
     },
     "metadata": {},
     "output_type": "display_data"
    }
   ],
   "source": [
    "classifer = gen_classifier(dataset=df_with_label, disp=True)"
   ]
  },
  {
   "cell_type": "markdown",
   "metadata": {},
   "source": [
    "### Generate regressor"
   ]
  },
  {
   "cell_type": "code",
   "execution_count": 30,
   "metadata": {
    "scrolled": true
   },
   "outputs": [
    {
     "name": "stdout",
     "output_type": "stream",
     "text": [
      "Estimator 0 report\n",
      "-------------------\n",
      "MSE: 3.99654050151158e-07\n",
      "MAE: 0.0004288049826055003\n"
     ]
    },
    {
     "data": {
      "image/png": "[encoded data removed]",
      "text/plain": [
       "<Figure size 1080x504 with 1 Axes>"
      ]
     },
     "metadata": {},
     "output_type": "display_data"
    },
    {
     "name": "stdout",
     "output_type": "stream",
     "text": [
      "Estimator 1 report\n",
      "-------------------\n",
      "MSE: 4.999464991585968e-07\n",
      "MAE: 0.0005352367054333678\n"
     ]
    },
    {
     "data": {
      "image/png": "[encoded data removed]",
      "text/plain": [
       "<Figure size 1080x504 with 1 Axes>"
      ]
     },
     "metadata": {},
     "output_type": "display_data"
    },
    {
     "name": "stdout",
     "output_type": "stream",
     "text": [
      "Estimator 2 report\n",
      "-------------------\n",
      "MSE: 5.559510547190799e-07\n",
      "MAE: 0.0005391574350635585\n"
     ]
    },
    {
     "data": {
      "image/png": "[encoded data removed]",
      "text/plain": [
       "<Figure size 1080x504 with 1 Axes>"
      ]
     },
     "metadata": {},
     "output_type": "display_data"
    },
    {
     "name": "stdout",
     "output_type": "stream",
     "text": [
      "Estimator 3 report\n",
      "-------------------\n",
      "MSE: 6.481117394409681e-07\n",
      "MAE: 0.0005858104228980342\n"
     ]
    },
    {
     "data": {
      "image/png": "[encoded data removed]",
      "text/plain": [
       "<Figure size 1080x504 with 1 Axes>"
      ]
     },
     "metadata": {},
     "output_type": "display_data"
    },
    {
     "name": "stdout",
     "output_type": "stream",
     "text": [
      "Estimator 4 report\n",
      "-------------------\n",
      "MSE: 4.613155513531135e-07\n",
      "MAE: 0.0004673730163365959\n"
     ]
    },
    {
     "data": {
      "image/png": "[encoded data removed]",
      "text/plain": [
       "<Figure size 1080x504 with 1 Axes>"
      ]
     },
     "metadata": {},
     "output_type": "display_data"
    },
    {
     "name": "stdout",
     "output_type": "stream",
     "text": [
      "Estimator 5 report\n",
      "-------------------\n",
      "MSE: 5.085711357919523e-07\n",
      "MAE: 0.0004900556035741826\n"
     ]
    },
    {
     "data": {
      "image/png": "[encoded data removed]",
      "text/plain": [
       "<Figure size 1080x504 with 1 Axes>"
      ]
     },
     "metadata": {},
     "output_type": "display_data"
    },
    {
     "name": "stdout",
     "output_type": "stream",
     "text": [
      "Estimator 6 report\n",
      "-------------------\n",
      "MSE: 1.1461047737500836e-05\n",
      "MAE: 0.0010942510780944724\n"
     ]
    },
    {
     "data": {
      "image/png": "[encoded data removed]",
      "text/plain": [
       "<Figure size 1080x504 with 1 Axes>"
      ]
     },
     "metadata": {},
     "output_type": "display_data"
    },
    {
     "name": "stdout",
     "output_type": "stream",
     "text": [
      "Estimator 7 report\n",
      "-------------------\n",
      "MSE: 5.322060679970684e-07\n",
      "MAE: 0.00042036917794535824\n"
     ]
    },
    {
     "data": {
      "image/png": "[encoded data removed]",
      "text/plain": [
       "<Figure size 1080x504 with 1 Axes>"
      ]
     },
     "metadata": {},
     "output_type": "display_data"
    }
   ],
   "source": [
    "estimators = gen_estimators(dataset=df_with_label, disp=True)"
   ]
  },
  {
   "cell_type": "markdown",
   "metadata": {},
   "source": [
    "### Combine models"
   ]
  },
  {
   "cell_type": "code",
   "execution_count": 31,
   "metadata": {},
   "outputs": [],
   "source": [
    "models = save_models(classifier=classifer, estimators=estimators, fmodels='himpe')"
   ]
  },
  {
   "cell_type": "markdown",
   "metadata": {},
   "source": [
    "### Evaluate models"
   ]
  },
  {
   "cell_type": "code",
   "execution_count": 32,
   "metadata": {},
   "outputs": [
    {
     "name": "stderr",
     "output_type": "stream",
     "text": [
      "/home/nkthanh/.local/lib/python3.6/site-packages/sklearn/preprocessing/label.py:151: DeprecationWarning: The truth value of an empty array is ambiguous. Returning False, but in future this will result in an error. Use `array.size > 0` to check that an array is not empty.\n",
      "  if diff:\n"
     ]
    },
    {
     "name": "stdout",
     "output_type": "stream",
     "text": [
      "Models report\n",
      "-------------\n",
      "MAE: 130.2824865632046\n",
      "MSE: 248265.93123832907\n"
     ]
    },
    {
     "data": {
      "image/png": "[encoded data removed]",
      "text/plain": [
       "<Figure size 1080x504 with 1 Axes>"
      ]
     },
     "metadata": {},
     "output_type": "display_data"
    },
    {
     "data": {
      "image/png": "[encoded data removed]",
      "text/plain": [
       "<Figure size 1080x504 with 1 Axes>"
      ]
     },
     "metadata": {},
     "output_type": "display_data"
    }
   ],
   "source": [
    "x_val = df_val.values[:,:-1]\n",
    "y_val = df_val.values[:,-1]\n",
    "y_pred = predict(models=models, data=x_val)\n",
    "x = list(range(len(y_val)))\n",
    "error = abs(y_val-y_pred)\n",
    "mae = mean_absolute_error(y_val, y_pred)\n",
    "mse = mean_squared_error(y_val, y_pred)\n",
    "print('Models report')\n",
    "print('-------------')\n",
    "print(f'MAE: {mae}')\n",
    "print(f'MSE: {mse}')\n",
    "plt.hist(error, bins=100)\n",
    "plt.xlabel('Error')\n",
    "plt.ylabel('n sample')\n",
    "plt.title('Report error')\n",
    "plt.show()\n",
    "\n",
    "plt.plot(x, y_val, label='Actual')\n",
    "plt.plot(x, y_pred, label='Predict')\n",
    "plt.legend()\n",
    "plt.show()"
   ]
  },
  {
   "cell_type": "code",
   "execution_count": null,
   "metadata": {},
   "outputs": [],
   "source": []
  },
  {
   "cell_type": "code",
   "execution_count": null,
   "metadata": {},
   "outputs": [],
   "source": []
  }
 ],
 "metadata": {
  "kernelspec": {
   "display_name": "Python 3",
   "language": "python",
   "name": "python3"
  },
  "language_info": {
   "codemirror_mode": {
    "name": "ipython",
    "version": 3
   },
   "file_extension": ".py",
   "mimetype": "text/x-python",
   "name": "python",
   "nbconvert_exporter": "python",
   "pygments_lexer": "ipython3",
   "version": "3.6.4"
  }
 },
 "nbformat": 4,
 "nbformat_minor": 2
}
